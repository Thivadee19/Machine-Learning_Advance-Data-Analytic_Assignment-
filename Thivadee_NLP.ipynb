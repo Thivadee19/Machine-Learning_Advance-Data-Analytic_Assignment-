{
  "nbformat": 4,
  "nbformat_minor": 0,
  "metadata": {
    "colab": {
      "name": "Thivadee_NLP",
      "provenance": [],
      "authorship_tag": "ABX9TyP+IDW2DOMU4/9YFD8gExxB",
      "include_colab_link": true
    },
    "kernelspec": {
      "name": "python3",
      "display_name": "Python 3"
    },
    "language_info": {
      "name": "python"
    }
  },
  "cells": [
    {
      "cell_type": "markdown",
      "metadata": {
        "id": "view-in-github",
        "colab_type": "text"
      },
      "source": [
        "<a href=\"https://colab.research.google.com/github/Thivadee19/Machine-Learning_Advance-Data-Analytic_Assignment-/blob/main/Thivadee_NLP.ipynb\" target=\"_parent\"><img src=\"https://colab.research.google.com/assets/colab-badge.svg\" alt=\"Open In Colab\"/></a>"
      ]
    },
    {
      "cell_type": "code",
      "execution_count": null,
      "metadata": {
        "id": "lEgpkYsWD78J"
      },
      "outputs": [],
      "source": [
        "import pandas as pd\n",
        "import numpy as np"
      ]
    },
    {
      "cell_type": "code",
      "source": [
        "email_data_df = pd.read_csv('https://raw.githubusercontent.com/niteen11/data301_predictive_analytics_machine_learning/main/data/imdb_labelled.txt', sep='\\t',names=['message','class'])"
      ],
      "metadata": {
        "id": "7BMgEDIhECEw"
      },
      "execution_count": null,
      "outputs": []
    },
    {
      "cell_type": "code",
      "source": [
        "email_data_df.head()"
      ],
      "metadata": {
        "colab": {
          "base_uri": "https://localhost:8080/",
          "height": 206
        },
        "id": "Kg9J_Ex3ECVv",
        "outputId": "c445bb79-7c28-4ee3-c721-c373f8c75cc3"
      },
      "execution_count": null,
      "outputs": [
        {
          "output_type": "execute_result",
          "data": {
            "text/html": [
              "<div>\n",
              "<style scoped>\n",
              "    .dataframe tbody tr th:only-of-type {\n",
              "        vertical-align: middle;\n",
              "    }\n",
              "\n",
              "    .dataframe tbody tr th {\n",
              "        vertical-align: top;\n",
              "    }\n",
              "\n",
              "    .dataframe thead th {\n",
              "        text-align: right;\n",
              "    }\n",
              "</style>\n",
              "<table border=\"1\" class=\"dataframe\">\n",
              "  <thead>\n",
              "    <tr style=\"text-align: right;\">\n",
              "      <th></th>\n",
              "      <th>message</th>\n",
              "      <th>class</th>\n",
              "    </tr>\n",
              "  </thead>\n",
              "  <tbody>\n",
              "    <tr>\n",
              "      <th>0</th>\n",
              "      <td>A very, very, very slow-moving, aimless movie ...</td>\n",
              "      <td>0</td>\n",
              "    </tr>\n",
              "    <tr>\n",
              "      <th>1</th>\n",
              "      <td>Not sure who was more lost - the flat characte...</td>\n",
              "      <td>0</td>\n",
              "    </tr>\n",
              "    <tr>\n",
              "      <th>2</th>\n",
              "      <td>Attempting artiness with black &amp; white and cle...</td>\n",
              "      <td>0</td>\n",
              "    </tr>\n",
              "    <tr>\n",
              "      <th>3</th>\n",
              "      <td>Very little music or anything to speak of.</td>\n",
              "      <td>0</td>\n",
              "    </tr>\n",
              "    <tr>\n",
              "      <th>4</th>\n",
              "      <td>The best scene in the movie was when Gerardo i...</td>\n",
              "      <td>1</td>\n",
              "    </tr>\n",
              "  </tbody>\n",
              "</table>\n",
              "</div>"
            ],
            "text/plain": [
              "                                             message  class\n",
              "0  A very, very, very slow-moving, aimless movie ...      0\n",
              "1  Not sure who was more lost - the flat characte...      0\n",
              "2  Attempting artiness with black & white and cle...      0\n",
              "3       Very little music or anything to speak of.        0\n",
              "4  The best scene in the movie was when Gerardo i...      1"
            ]
          },
          "metadata": {},
          "execution_count": 8
        }
      ]
    },
    {
      "cell_type": "code",
      "source": [
        "email_data_df['message'][0]"
      ],
      "metadata": {
        "colab": {
          "base_uri": "https://localhost:8080/",
          "height": 35
        },
        "id": "iL-gi_i6ECtw",
        "outputId": "ee01fa83-ef9a-4620-bbbd-0b6acb4a6533"
      },
      "execution_count": null,
      "outputs": [
        {
          "output_type": "execute_result",
          "data": {
            "application/vnd.google.colaboratory.intrinsic+json": {
              "type": "string"
            },
            "text/plain": [
              "'A very, very, very slow-moving, aimless movie about a distressed, drifting young man.  '"
            ]
          },
          "metadata": {},
          "execution_count": 9
        }
      ]
    },
    {
      "cell_type": "code",
      "source": [
        "email_data_df['message'][1]"
      ],
      "metadata": {
        "colab": {
          "base_uri": "https://localhost:8080/",
          "height": 35
        },
        "id": "rmhMfKFCEtKt",
        "outputId": "70708582-290b-49d2-f1a9-1e00482737d2"
      },
      "execution_count": null,
      "outputs": [
        {
          "output_type": "execute_result",
          "data": {
            "application/vnd.google.colaboratory.intrinsic+json": {
              "type": "string"
            },
            "text/plain": [
              "'Not sure who was more lost - the flat characters or the audience, nearly half of whom walked out.  '"
            ]
          },
          "metadata": {},
          "execution_count": 26
        }
      ]
    },
    {
      "cell_type": "code",
      "source": [
        "len(email_data_df['message'][1])"
      ],
      "metadata": {
        "colab": {
          "base_uri": "https://localhost:8080/"
        },
        "id": "1lxh7g8OEtRG",
        "outputId": "9f9b6d2f-9e22-4120-f533-38edbf041555"
      },
      "execution_count": null,
      "outputs": [
        {
          "output_type": "execute_result",
          "data": {
            "text/plain": [
              "99"
            ]
          },
          "metadata": {},
          "execution_count": 27
        }
      ]
    },
    {
      "cell_type": "code",
      "source": [
        "max(email_data_df['message'].apply(len))"
      ],
      "metadata": {
        "colab": {
          "base_uri": "https://localhost:8080/"
        },
        "id": "JHa6Jl2oEtTn",
        "outputId": "ff92ad5a-963f-4b74-d3a8-beecf8801bf3"
      },
      "execution_count": null,
      "outputs": [
        {
          "output_type": "execute_result",
          "data": {
            "text/plain": [
              "7944"
            ]
          },
          "metadata": {},
          "execution_count": 12
        }
      ]
    },
    {
      "cell_type": "code",
      "source": [
        "email_data_df.shape"
      ],
      "metadata": {
        "colab": {
          "base_uri": "https://localhost:8080/"
        },
        "id": "MANW_f1qEtY0",
        "outputId": "cf7e439e-186e-4511-8cc8-47d5b2dc767e"
      },
      "execution_count": null,
      "outputs": [
        {
          "output_type": "execute_result",
          "data": {
            "text/plain": [
              "(748, 2)"
            ]
          },
          "metadata": {},
          "execution_count": 72
        }
      ]
    },
    {
      "cell_type": "code",
      "source": [
        "import string"
      ],
      "metadata": {
        "id": "Eh54xaCoFAzG"
      },
      "execution_count": null,
      "outputs": []
    },
    {
      "cell_type": "code",
      "source": [
        "remove_punct = [char for char in msg_7944.message.iloc[0] if char not in string.punctuation]"
      ],
      "metadata": {
        "id": "8Km5YSuqFA1z"
      },
      "execution_count": null,
      "outputs": []
    },
    {
      "cell_type": "code",
      "source": [
        "remove_punct = ''.join(remove_punct)"
      ],
      "metadata": {
        "id": "DQ6p-0G0FA4T"
      },
      "execution_count": null,
      "outputs": []
    },
    {
      "cell_type": "code",
      "source": [
        "remove_punct"
      ],
      "metadata": {
        "colab": {
          "base_uri": "https://localhost:8080/",
          "height": 87
        },
        "id": "HtT-2pzCFA6t",
        "outputId": "44bfa6da-ca26-49ed-b296-1ab3330f0455"
      },
      "execution_count": null,
      "outputs": [
        {
          "output_type": "execute_result",
          "data": {
            "application/vnd.google.colaboratory.intrinsic+json": {
              "type": "string"
            },
            "text/plain": [
              "' In fact its hard to remember that the part of Ray Charles is being acted and not played by the man himself  \\t1\\nRay Charles is legendary  \\t1\\nRay Charles life provided excellent biographical material for the film which goes well beyond being just another movie about a musician  \\t1\\nHitchcock is a great director  \\t1\\nIronically I mostly find his films a total waste of time to watch  \\t0\\nSecondly Hitchcock pretty much perfected the thriller and chase movie  \\t1\\nIts this pandering to the audience that sabotages most of his films  \\t0\\nHence the whole story lacks a certain energy  \\t0\\nThe plot simply rumbles on like a machine desperately depending on the addition of new scenes  \\t0\\nThere are the usual Hitchcock logic flaws  \\t0\\nMishima is extremely uninteresting  \\t0\\nThis is a chilly unremarkable movie about an author livingworking in a chilly abstruse culture  \\t0\\nThe flat reenactments dont hold your attention because they are emotionally adrift and stagy  \\t0\\nAnd the rest of it just sits there being awful with soldiers singing songs about the masculinity they pledge themselves to hairsplitting about purity the admiration of swords etc  \\t0\\nHe can bore you to pieces and kill the momentum of a movie quicker than anyone else  \\t0\\nSchrader has made a resume full of lousy amateurish films  \\t0\\nWhen I first watched this movie in the 80s I loved it  \\t1\\nI was totally fascinated by the music the dancing everything  \\t1\\nHowever I recently watched the whole thing again on DVD and I was completely struck by how extremely stupid the storyline was  how it contained holes inconsistencies and  frankly  a whole lot of crap  and how horrid the dancing was  \\t0\\nI mean in a realistic world she would NEVER have gotten into that ballet repertory The whole thing was quite pathetic  \\t0\\nThe character developments also lacked in depth  \\t0\\nWoa talk about awful  \\t0\\nDo not waste your time  \\t0\\nIt was just too horrible  \\t0\\nThe worst sappiest dialogue I could go on and on  \\t0\\nBut what really made it unwatchable was the direction  \\t0\\nThe poor actors  \\t0\\nYou cant even tell if they have any talent because they not only have pathetic lines to speak but the director gave them no action  \\t0\\nIf you check the directors filmography on this site you will see why this film didnt have a chance  \\t0\\nThis would not even be good as a made for TV flick  \\t0\\nIf good intentions made a film great then this film might be one of the greatest films ever made  \\t1\\nThe film has great actors a master director a significant themeat least a wouldbe significant theme undertone of fifties existential worldweariness aerial scenes that ought to have thrilled both senses and imagination and characters about which one might deeply care  \\t1\\nRegrettably the film fails  \\t0\\nThe movie lacks visual interest drama expression of feeling and celebration of the very patriotism that underlines the narrative  \\t0\\nNo actress has been worse used that June Allison in this movie  \\t0\\nYet I enjoy watching it  \\t1\\nUnfortunately this is a bad movie that is just plain bad  \\t0\\nBad script bad direction and horrible acting make this one plain bad  \\t0\\nThe dialogue sucked  \\t0\\nThe cinematographyif it can be called thatsucked  \\t0\\nThe soundtrack sucked  \\t0\\nThe acting sucked  \\t0\\nThe concert sequences just sucked  \\t0\\nThat was nice  \\t1\\nThat was funny  \\t1\\nIt was so funny  \\t1\\nOverall this movie was cheap trash  \\t0\\nBut this movie is not funny considering the ridiculousness of it  \\t0\\nI came out of it feeling angry  \\t0\\nSPOILERS Whatever else can or cant be said about it SURFACE is superbly crafted  \\t1\\nThe cinematography is simply stunning to say the least and the fx are nothing if not stateoftheart  \\t1\\nConceptually the show offers a little bit of everything and for just about everybody parents kids fantasy andor fx fans  \\t1\\nAnd there wasnt a single sour note struck actingwise either some surprisingly solid casting here  \\t1\\nAll things considered a job very well done  \\t1\\nThanks good a movie like this was done and released  \\t1\\nOne of the best mexican movies ever and one of the less understood even by mexican themselves no matter how identified the should have felt with it  \\t1\\nIt ranks highly as a great noircrimedrama incredible performances by Belmondo and Lino Ventura  \\t1\\nThe attention given to every character and complex psychological portrayals detailing loyalty treachery love and hope are tremendous  \\t1\\nIt is an excellent drama an excellent thriller and an excellent film  \\t1\\nUp there with the best of Melville  \\t1\\nEverything about this film is simply incredible  \\t1\\nYou truly take this journey through the eyes and soul of a child  \\t1\\nBLACK WATER is a thriller that manages to completely transcend its limitations its an indie flick by continually subverting expectations to emerge as an intense experience  \\t1\\nThe performances are real and gripping the crocdodile is extremely well done indeed if the Black Water website is to be believed thats because they used real crocs and the swamp location is fabulous  \\t1\\nI thoroughly enjoyed it when Christopher Eccleston took control of the TARDIS and the continuation of the series  \\t1\\nIm not sure what he was trying to do with this film  \\t0\\nIf it was to turn my good day feeling into a night of disturbing memories than I guess he succeeded  \\t0\\nThere is a lot of beautiful places  \\t1\\nIt was forced like everything in this movie  \\t0\\nAgain lame  \\t0\\nHeres where the movie really pied me off  \\t0\\nAnd dont even get me started on the jerky camerawork  \\t0\\nWhen I saw it in the theater I thought I was going to be sick  \\t0\\nSummary The witticisms werent witty  \\t0\\nThe plot  well I said Id let that one go  \\t0\\nThe acting was bad  \\t0\\nReally bad  \\t0\\nEven Billy Bob couldnt rise above the script which was worse  \\t0\\nCamerawork  again bad  \\t0\\nRating 1 out of 10  \\t0\\nAn AMAZING finale to possibly the BEST trilogy of all time  \\t1\\nKieslowski never ceases to amaze me  \\t1\\nHe is one of my favourite directors and one of the most talented directors in the history of cinema  \\t1\\nHis use of the colours of the French flag in the three films was nothing short of incredible every shot every scene was like a work of art  \\t1\\nThree of the most visually appealing movies ive ever seen  \\t1\\nAnd his subtle connections between the three films are awesome  \\t1\\nI have to mention this and it is a huge SPOILER i loved the ending how all the characters of the three films were the remaining survivors of the ferry disaster with Valentine and the young judge together and the old man watching it on her TV solidifying his happiness over the suffering which he dealt with for those many years  \\t1\\nI couldnt think of a better way to end the film but a smile on my face great way to wrap up an amazing film and trilogy  \\t1\\nI recommend this for EVERYONE who loves film movies anythingA Work of Art  \\t1\\n10 out of 10 for both the movie and trilogy  \\t1\\nI literally vomited while watching this film  \\t0\\nI think i was one of the people who found this another one of roths pearls  \\t1\\nhis performance as awarded was stunning  \\t1\\nthe story which was told so eloquently by Francis ford Coppola 25 years earlier really unfolds gradually and leaves room for the characters to develop  \\t1\\nIn a most wonderful location lies a story of contrast  \\t1\\nAll in all a beautiful directed film from Nicolas roeg wih a sublime cast  \\t1\\nIm translating movies for a living and this is the first movie in my 5year working experience that I found offensive to my intelligence  \\t0\\nBut when someone strives for greatness and poetry but delivers a muddled and often ridiculous story a bunch of disparate scenes pretentious dialogue Then you get the worst kind of a movie that some other reviewer very accurately defined as pretentious crap  '"
            ]
          },
          "metadata": {},
          "execution_count": 37
        }
      ]
    },
    {
      "cell_type": "code",
      "source": [
        "len(remove_punct)"
      ],
      "metadata": {
        "colab": {
          "base_uri": "https://localhost:8080/"
        },
        "id": "A5UM8HOMHuFT",
        "outputId": "0ebb423e-d343-45ed-c486-f5faa421d0f3"
      },
      "execution_count": null,
      "outputs": [
        {
          "output_type": "execute_result",
          "data": {
            "text/plain": [
              "7679"
            ]
          },
          "metadata": {},
          "execution_count": 38
        }
      ]
    },
    {
      "cell_type": "code",
      "source": [
        "import nltk\n",
        "nltk.download('stopwords')"
      ],
      "metadata": {
        "colab": {
          "base_uri": "https://localhost:8080/"
        },
        "id": "c7H-3DAZHuH1",
        "outputId": "ed8fa586-4c80-4c03-aa51-dfae30c26e15"
      },
      "execution_count": null,
      "outputs": [
        {
          "output_type": "stream",
          "name": "stdout",
          "text": [
            "[nltk_data] Downloading package stopwords to /root/nltk_data...\n",
            "[nltk_data]   Unzipping corpora/stopwords.zip.\n"
          ]
        },
        {
          "output_type": "execute_result",
          "data": {
            "text/plain": [
              "True"
            ]
          },
          "metadata": {},
          "execution_count": 40
        }
      ]
    },
    {
      "cell_type": "code",
      "source": [
        "from nltk.corpus import stopwords"
      ],
      "metadata": {
        "id": "qiFsVesLHuKd"
      },
      "execution_count": null,
      "outputs": []
    },
    {
      "cell_type": "code",
      "source": [
        "stopwords.words('english')[0:10]"
      ],
      "metadata": {
        "colab": {
          "base_uri": "https://localhost:8080/"
        },
        "id": "w5BReHKZHuNG",
        "outputId": "f72aa5de-7be1-478e-b9c4-f90c6706d753"
      },
      "execution_count": null,
      "outputs": [
        {
          "output_type": "execute_result",
          "data": {
            "text/plain": [
              "['i', 'me', 'my', 'myself', 'we', 'our', 'ours', 'ourselves', 'you', \"you're\"]"
            ]
          },
          "metadata": {},
          "execution_count": 43
        }
      ]
    },
    {
      "cell_type": "code",
      "source": [
        "remove_stopwords = [word for word in remove_punct.split() if word.lower() not in stopwords.words('english')]"
      ],
      "metadata": {
        "id": "6Cj-XYGAHuP6"
      },
      "execution_count": null,
      "outputs": []
    },
    {
      "cell_type": "markdown",
      "source": [
        "# Remove Stopwards"
      ],
      "metadata": {
        "id": "ahpdRsHVLv3o"
      }
    },
    {
      "cell_type": "code",
      "source": [
        "##Remove stopwards \n",
        "len(remove_stopwords)"
      ],
      "metadata": {
        "colab": {
          "base_uri": "https://localhost:8080/"
        },
        "id": "opqBCxksHuTM",
        "outputId": "03fdbf85-f461-4977-b1e8-d0ef42453672"
      },
      "execution_count": null,
      "outputs": [
        {
          "output_type": "execute_result",
          "data": {
            "text/plain": [
              "789"
            ]
          },
          "metadata": {},
          "execution_count": 45
        }
      ]
    },
    {
      "cell_type": "code",
      "source": [
        "len(remove_punct)"
      ],
      "metadata": {
        "colab": {
          "base_uri": "https://localhost:8080/"
        },
        "id": "3H5tvSOfInpd",
        "outputId": "418155ef-0981-487e-9717-7f454299cd31"
      },
      "execution_count": null,
      "outputs": [
        {
          "output_type": "execute_result",
          "data": {
            "text/plain": [
              "7679"
            ]
          },
          "metadata": {},
          "execution_count": 46
        }
      ]
    },
    {
      "cell_type": "markdown",
      "source": [
        "# Process the Data"
      ],
      "metadata": {
        "id": "uuQqp_BUONOM"
      }
    },
    {
      "cell_type": "code",
      "source": [
        "def message_text_pre_process(text_message):\n",
        "  remove_punct = [char for char in text_message if char not in string.punctuation]\n",
        "  remove_punct = ''.join(remove_punct)\n",
        "  remove_stopwords = [word for word in remove_punct.split() if word.lower() not in stopwords.words('english')]\n",
        "  return remove_stopwords"
      ],
      "metadata": {
        "id": "RFV9Im-DJZ5f"
      },
      "execution_count": null,
      "outputs": []
    },
    {
      "cell_type": "code",
      "source": [
        "email_data_df['message'].head(10).apply(message_text_pre_process)"
      ],
      "metadata": {
        "colab": {
          "base_uri": "https://localhost:8080/"
        },
        "id": "_7geXPkiJaDh",
        "outputId": "af4b5dac-c07e-4308-d643-ba75d12a5eaa"
      },
      "execution_count": null,
      "outputs": [
        {
          "output_type": "execute_result",
          "data": {
            "text/plain": [
              "0    [slowmoving, aimless, movie, distressed, drift...\n",
              "1    [sure, lost, flat, characters, audience, nearl...\n",
              "2    [Attempting, artiness, black, white, clever, c...\n",
              "3                     [little, music, anything, speak]\n",
              "4    [best, scene, movie, Gerardo, trying, find, so...\n",
              "5    [rest, movie, lacks, art, charm, meaning, empt...\n",
              "6                                 [Wasted, two, hours]\n",
              "7    [Saw, movie, today, thought, good, effort, goo...\n",
              "8                                   [bit, predictable]\n",
              "9    [Loved, casting, Jimmy, Buffet, science, teacher]\n",
              "Name: message, dtype: object"
            ]
          },
          "metadata": {},
          "execution_count": 48
        }
      ]
    },
    {
      "cell_type": "code",
      "source": [
        "email_data_df.head()"
      ],
      "metadata": {
        "colab": {
          "base_uri": "https://localhost:8080/",
          "height": 206
        },
        "id": "w8l_wNzEJaGh",
        "outputId": "8a444dde-1911-4f3e-d133-d152175dc1dc"
      },
      "execution_count": null,
      "outputs": [
        {
          "output_type": "execute_result",
          "data": {
            "text/html": [
              "<div>\n",
              "<style scoped>\n",
              "    .dataframe tbody tr th:only-of-type {\n",
              "        vertical-align: middle;\n",
              "    }\n",
              "\n",
              "    .dataframe tbody tr th {\n",
              "        vertical-align: top;\n",
              "    }\n",
              "\n",
              "    .dataframe thead th {\n",
              "        text-align: right;\n",
              "    }\n",
              "</style>\n",
              "<table border=\"1\" class=\"dataframe\">\n",
              "  <thead>\n",
              "    <tr style=\"text-align: right;\">\n",
              "      <th></th>\n",
              "      <th>message</th>\n",
              "      <th>class</th>\n",
              "    </tr>\n",
              "  </thead>\n",
              "  <tbody>\n",
              "    <tr>\n",
              "      <th>0</th>\n",
              "      <td>A very, very, very slow-moving, aimless movie ...</td>\n",
              "      <td>0</td>\n",
              "    </tr>\n",
              "    <tr>\n",
              "      <th>1</th>\n",
              "      <td>Not sure who was more lost - the flat characte...</td>\n",
              "      <td>0</td>\n",
              "    </tr>\n",
              "    <tr>\n",
              "      <th>2</th>\n",
              "      <td>Attempting artiness with black &amp; white and cle...</td>\n",
              "      <td>0</td>\n",
              "    </tr>\n",
              "    <tr>\n",
              "      <th>3</th>\n",
              "      <td>Very little music or anything to speak of.</td>\n",
              "      <td>0</td>\n",
              "    </tr>\n",
              "    <tr>\n",
              "      <th>4</th>\n",
              "      <td>The best scene in the movie was when Gerardo i...</td>\n",
              "      <td>1</td>\n",
              "    </tr>\n",
              "  </tbody>\n",
              "</table>\n",
              "</div>"
            ],
            "text/plain": [
              "                                             message  class\n",
              "0  A very, very, very slow-moving, aimless movie ...      0\n",
              "1  Not sure who was more lost - the flat characte...      0\n",
              "2  Attempting artiness with black & white and cle...      0\n",
              "3       Very little music or anything to speak of.        0\n",
              "4  The best scene in the movie was when Gerardo i...      1"
            ]
          },
          "metadata": {},
          "execution_count": 49
        }
      ]
    },
    {
      "cell_type": "code",
      "source": [
        "email_data_df.shape"
      ],
      "metadata": {
        "colab": {
          "base_uri": "https://localhost:8080/"
        },
        "id": "9VPROx-XPJY9",
        "outputId": "b746f7a9-d98d-435e-d5cd-32ed9012f38f"
      },
      "execution_count": null,
      "outputs": [
        {
          "output_type": "execute_result",
          "data": {
            "text/plain": [
              "(748, 2)"
            ]
          },
          "metadata": {},
          "execution_count": 73
        }
      ]
    },
    {
      "cell_type": "markdown",
      "source": [
        "# Vectorization"
      ],
      "metadata": {
        "id": "mACtrBmLNjCH"
      }
    },
    {
      "cell_type": "code",
      "source": [
        "##Vectorization\n",
        "from sklearn.feature_extraction.text import CountVectorizer"
      ],
      "metadata": {
        "id": "_vw0uBvtJaJY"
      },
      "execution_count": null,
      "outputs": []
    },
    {
      "cell_type": "code",
      "source": [
        "bag_of_words = CountVectorizer(analyzer=message_text_pre_process).fit(email_data_df['message'])"
      ],
      "metadata": {
        "id": "nQpdQOl_JaL2"
      },
      "execution_count": null,
      "outputs": []
    },
    {
      "cell_type": "code",
      "source": [
        "bag_of_words_trf = bag_of_words.transform(email_data_df['message'])"
      ],
      "metadata": {
        "id": "vHizrM9yJaOf"
      },
      "execution_count": null,
      "outputs": []
    },
    {
      "cell_type": "markdown",
      "source": [
        "# TF-IDF"
      ],
      "metadata": {
        "id": "4mUY0whcP5nh"
      }
    },
    {
      "cell_type": "code",
      "source": [
        "##TF-DIF\n",
        "from sklearn.feature_extraction.text import TfidfTransformer"
      ],
      "metadata": {
        "id": "T9nPwOfBJqmf"
      },
      "execution_count": null,
      "outputs": []
    },
    {
      "cell_type": "code",
      "source": [
        "tfidf_fit = TfidfTransformer().fit(bag_of_words_trf)"
      ],
      "metadata": {
        "id": "K_cielPLJqpA"
      },
      "execution_count": null,
      "outputs": []
    },
    {
      "cell_type": "code",
      "source": [
        "tfidf_trf = tfidf_fit.transform(bag_of_words_trf)"
      ],
      "metadata": {
        "id": "ga4RexH2Jqrq"
      },
      "execution_count": null,
      "outputs": []
    },
    {
      "cell_type": "markdown",
      "source": [
        "# Model (Multinomial Naive Bayes)"
      ],
      "metadata": {
        "id": "3UbgRW9DLpO6"
      }
    },
    {
      "cell_type": "code",
      "source": [
        "##Model Building\n",
        "from sklearn.naive_bayes import MultinomialNB"
      ],
      "metadata": {
        "id": "-AtnYaeWJquN"
      },
      "execution_count": null,
      "outputs": []
    },
    {
      "cell_type": "code",
      "source": [
        "email_data_df.head()"
      ],
      "metadata": {
        "colab": {
          "base_uri": "https://localhost:8080/",
          "height": 206
        },
        "id": "TQ3jPrihPQH4",
        "outputId": "7fe19d71-c748-40d6-e5a0-07d6bb090b8d"
      },
      "execution_count": null,
      "outputs": [
        {
          "output_type": "execute_result",
          "data": {
            "text/html": [
              "<div>\n",
              "<style scoped>\n",
              "    .dataframe tbody tr th:only-of-type {\n",
              "        vertical-align: middle;\n",
              "    }\n",
              "\n",
              "    .dataframe tbody tr th {\n",
              "        vertical-align: top;\n",
              "    }\n",
              "\n",
              "    .dataframe thead th {\n",
              "        text-align: right;\n",
              "    }\n",
              "</style>\n",
              "<table border=\"1\" class=\"dataframe\">\n",
              "  <thead>\n",
              "    <tr style=\"text-align: right;\">\n",
              "      <th></th>\n",
              "      <th>message</th>\n",
              "      <th>class</th>\n",
              "    </tr>\n",
              "  </thead>\n",
              "  <tbody>\n",
              "    <tr>\n",
              "      <th>0</th>\n",
              "      <td>A very, very, very slow-moving, aimless movie ...</td>\n",
              "      <td>0</td>\n",
              "    </tr>\n",
              "    <tr>\n",
              "      <th>1</th>\n",
              "      <td>Not sure who was more lost - the flat characte...</td>\n",
              "      <td>0</td>\n",
              "    </tr>\n",
              "    <tr>\n",
              "      <th>2</th>\n",
              "      <td>Attempting artiness with black &amp; white and cle...</td>\n",
              "      <td>0</td>\n",
              "    </tr>\n",
              "    <tr>\n",
              "      <th>3</th>\n",
              "      <td>Very little music or anything to speak of.</td>\n",
              "      <td>0</td>\n",
              "    </tr>\n",
              "    <tr>\n",
              "      <th>4</th>\n",
              "      <td>The best scene in the movie was when Gerardo i...</td>\n",
              "      <td>1</td>\n",
              "    </tr>\n",
              "  </tbody>\n",
              "</table>\n",
              "</div>"
            ],
            "text/plain": [
              "                                             message  class\n",
              "0  A very, very, very slow-moving, aimless movie ...      0\n",
              "1  Not sure who was more lost - the flat characte...      0\n",
              "2  Attempting artiness with black & white and cle...      0\n",
              "3       Very little music or anything to speak of.        0\n",
              "4  The best scene in the movie was when Gerardo i...      1"
            ]
          },
          "metadata": {},
          "execution_count": 74
        }
      ]
    },
    {
      "cell_type": "code",
      "source": [
        "spam_detector_model = MultinomialNB().fit(tfidf_trf,email_data_df['class'])"
      ],
      "metadata": {
        "id": "z-O7vTy4JqxF"
      },
      "execution_count": null,
      "outputs": []
    },
    {
      "cell_type": "code",
      "source": [
        "test_message = email_data_df['message'][10]"
      ],
      "metadata": {
        "id": "28l_Lh0EJ6jY"
      },
      "execution_count": null,
      "outputs": []
    },
    {
      "cell_type": "code",
      "source": [
        "bag_of_words_test_message = bag_of_words.transform([test_message])"
      ],
      "metadata": {
        "id": "lP7RT7noJ6sx"
      },
      "execution_count": null,
      "outputs": []
    },
    {
      "cell_type": "code",
      "source": [
        "tfidf_test_messsge = tfidf_fit.transform(bag_of_words_test_message)"
      ],
      "metadata": {
        "id": "y4IXi8n7J6vs"
      },
      "execution_count": null,
      "outputs": []
    },
    {
      "cell_type": "code",
      "source": [
        "spam_detector_model.predict(tfidf_test_messsge)[0]"
      ],
      "metadata": {
        "colab": {
          "base_uri": "https://localhost:8080/"
        },
        "id": "aud3HluUJ6yi",
        "outputId": "212750d2-05d6-45a3-c44b-474f4218e15f"
      },
      "execution_count": null,
      "outputs": [
        {
          "output_type": "execute_result",
          "data": {
            "text/plain": [
              "1"
            ]
          },
          "metadata": {},
          "execution_count": 61
        }
      ]
    },
    {
      "cell_type": "code",
      "source": [
        "email_data_df['class'][0]"
      ],
      "metadata": {
        "colab": {
          "base_uri": "https://localhost:8080/"
        },
        "id": "cLoqD8KoJ61F",
        "outputId": "79584bf5-1adc-4077-e171-9c70cf6d344a"
      },
      "execution_count": null,
      "outputs": [
        {
          "output_type": "execute_result",
          "data": {
            "text/plain": [
              "0"
            ]
          },
          "metadata": {},
          "execution_count": 65
        }
      ]
    },
    {
      "cell_type": "code",
      "source": [
        "email_data_df.head()"
      ],
      "metadata": {
        "colab": {
          "base_uri": "https://localhost:8080/",
          "height": 206
        },
        "id": "n1u2hGbLKJkn",
        "outputId": "d575ad37-d1cf-4c7f-e6d0-85e248e0f190"
      },
      "execution_count": null,
      "outputs": [
        {
          "output_type": "execute_result",
          "data": {
            "text/html": [
              "<div>\n",
              "<style scoped>\n",
              "    .dataframe tbody tr th:only-of-type {\n",
              "        vertical-align: middle;\n",
              "    }\n",
              "\n",
              "    .dataframe tbody tr th {\n",
              "        vertical-align: top;\n",
              "    }\n",
              "\n",
              "    .dataframe thead th {\n",
              "        text-align: right;\n",
              "    }\n",
              "</style>\n",
              "<table border=\"1\" class=\"dataframe\">\n",
              "  <thead>\n",
              "    <tr style=\"text-align: right;\">\n",
              "      <th></th>\n",
              "      <th>message</th>\n",
              "      <th>class</th>\n",
              "    </tr>\n",
              "  </thead>\n",
              "  <tbody>\n",
              "    <tr>\n",
              "      <th>0</th>\n",
              "      <td>A very, very, very slow-moving, aimless movie ...</td>\n",
              "      <td>0</td>\n",
              "    </tr>\n",
              "    <tr>\n",
              "      <th>1</th>\n",
              "      <td>Not sure who was more lost - the flat characte...</td>\n",
              "      <td>0</td>\n",
              "    </tr>\n",
              "    <tr>\n",
              "      <th>2</th>\n",
              "      <td>Attempting artiness with black &amp; white and cle...</td>\n",
              "      <td>0</td>\n",
              "    </tr>\n",
              "    <tr>\n",
              "      <th>3</th>\n",
              "      <td>Very little music or anything to speak of.</td>\n",
              "      <td>0</td>\n",
              "    </tr>\n",
              "    <tr>\n",
              "      <th>4</th>\n",
              "      <td>The best scene in the movie was when Gerardo i...</td>\n",
              "      <td>1</td>\n",
              "    </tr>\n",
              "  </tbody>\n",
              "</table>\n",
              "</div>"
            ],
            "text/plain": [
              "                                             message  class\n",
              "0  A very, very, very slow-moving, aimless movie ...      0\n",
              "1  Not sure who was more lost - the flat characte...      0\n",
              "2  Attempting artiness with black & white and cle...      0\n",
              "3       Very little music or anything to speak of.        0\n",
              "4  The best scene in the movie was when Gerardo i...      1"
            ]
          },
          "metadata": {},
          "execution_count": 64
        }
      ]
    },
    {
      "cell_type": "code",
      "source": [
        "prediction_for_all_messages = spam_detector_model.predict(tfidf_trf)"
      ],
      "metadata": {
        "id": "shxzskCiKNyu"
      },
      "execution_count": null,
      "outputs": []
    },
    {
      "cell_type": "code",
      "source": [
        "from sklearn.metrics import classification_report"
      ],
      "metadata": {
        "id": "SugqINpEKN1n"
      },
      "execution_count": null,
      "outputs": []
    },
    {
      "cell_type": "code",
      "source": [
        "print(classification_report(email_data_df['class'],prediction_for_all_messages))"
      ],
      "metadata": {
        "colab": {
          "base_uri": "https://localhost:8080/"
        },
        "id": "ctQH2bWGKN4a",
        "outputId": "6a79cca0-1b9b-455e-bffc-9cf3d074c475"
      },
      "execution_count": null,
      "outputs": [
        {
          "output_type": "stream",
          "name": "stdout",
          "text": [
            "              precision    recall  f1-score   support\n",
            "\n",
            "           0       0.98      0.98      0.98       362\n",
            "           1       0.98      0.98      0.98       386\n",
            "\n",
            "    accuracy                           0.98       748\n",
            "   macro avg       0.98      0.98      0.98       748\n",
            "weighted avg       0.98      0.98      0.98       748\n",
            "\n"
          ]
        }
      ]
    },
    {
      "cell_type": "code",
      "source": [
        ""
      ],
      "metadata": {
        "id": "t93iem3ZKODX"
      },
      "execution_count": null,
      "outputs": []
    }
  ]
}